{
 "cells": [
  {
   "cell_type": "code",
   "execution_count": 5,
   "id": "84b50f7b-acd4-4f08-831f-b03082ce09c0",
   "metadata": {},
   "outputs": [],
   "source": [
    "import pandas as pd\n",
    "import numpy as np\n",
    "from matplotlib import pyplot as plt\n",
    "import seaborn as sns"
   ]
  },
  {
   "cell_type": "markdown",
   "id": "d7453c8f-4aa4-4d12-849f-6e5f58fd6a02",
   "metadata": {},
   "source": [
    "# Task - 1: Import the \"RealEstate_Prices.csv\" dataset. Clean column names by removing spaces, special characters, or renaming them for clarity. "
   ]
  },
  {
   "cell_type": "code",
   "execution_count": 7,
   "id": "e1954d0c-7cfd-44f5-ae55-9ae8bab8a5dd",
   "metadata": {},
   "outputs": [],
   "source": [
    "# Import the dataset\n",
    "df = pd.read_csv('Real estate.csv')"
   ]
  },
  {
   "cell_type": "code",
   "execution_count": 8,
   "id": "ae1a58df-ddc1-474f-99be-6e9387e0478c",
   "metadata": {},
   "outputs": [
    {
     "data": {
      "text/html": [
       "<div>\n",
       "<style scoped>\n",
       "    .dataframe tbody tr th:only-of-type {\n",
       "        vertical-align: middle;\n",
       "    }\n",
       "\n",
       "    .dataframe tbody tr th {\n",
       "        vertical-align: top;\n",
       "    }\n",
       "\n",
       "    .dataframe thead th {\n",
       "        text-align: right;\n",
       "    }\n",
       "</style>\n",
       "<table border=\"1\" class=\"dataframe\">\n",
       "  <thead>\n",
       "    <tr style=\"text-align: right;\">\n",
       "      <th></th>\n",
       "      <th>No</th>\n",
       "      <th>X1 transaction date</th>\n",
       "      <th>X2 house age</th>\n",
       "      <th>X3 distance to the nearest MRT station</th>\n",
       "      <th>X4 number of convenience stores</th>\n",
       "      <th>X5 latitude</th>\n",
       "      <th>X6 longitude</th>\n",
       "      <th>Y house price of unit area</th>\n",
       "    </tr>\n",
       "  </thead>\n",
       "  <tbody>\n",
       "    <tr>\n",
       "      <th>0</th>\n",
       "      <td>1</td>\n",
       "      <td>2012.917</td>\n",
       "      <td>32.0</td>\n",
       "      <td>84.87882</td>\n",
       "      <td>10</td>\n",
       "      <td>24.98298</td>\n",
       "      <td>121.54024</td>\n",
       "      <td>37.9</td>\n",
       "    </tr>\n",
       "    <tr>\n",
       "      <th>1</th>\n",
       "      <td>2</td>\n",
       "      <td>2012.917</td>\n",
       "      <td>19.5</td>\n",
       "      <td>306.59470</td>\n",
       "      <td>9</td>\n",
       "      <td>24.98034</td>\n",
       "      <td>121.53951</td>\n",
       "      <td>42.2</td>\n",
       "    </tr>\n",
       "    <tr>\n",
       "      <th>2</th>\n",
       "      <td>3</td>\n",
       "      <td>2013.583</td>\n",
       "      <td>13.3</td>\n",
       "      <td>561.98450</td>\n",
       "      <td>5</td>\n",
       "      <td>24.98746</td>\n",
       "      <td>121.54391</td>\n",
       "      <td>47.3</td>\n",
       "    </tr>\n",
       "    <tr>\n",
       "      <th>3</th>\n",
       "      <td>4</td>\n",
       "      <td>2013.500</td>\n",
       "      <td>13.3</td>\n",
       "      <td>561.98450</td>\n",
       "      <td>5</td>\n",
       "      <td>24.98746</td>\n",
       "      <td>121.54391</td>\n",
       "      <td>54.8</td>\n",
       "    </tr>\n",
       "    <tr>\n",
       "      <th>4</th>\n",
       "      <td>5</td>\n",
       "      <td>2012.833</td>\n",
       "      <td>5.0</td>\n",
       "      <td>390.56840</td>\n",
       "      <td>5</td>\n",
       "      <td>24.97937</td>\n",
       "      <td>121.54245</td>\n",
       "      <td>43.1</td>\n",
       "    </tr>\n",
       "  </tbody>\n",
       "</table>\n",
       "</div>"
      ],
      "text/plain": [
       "   No  X1 transaction date  X2 house age  \\\n",
       "0   1             2012.917          32.0   \n",
       "1   2             2012.917          19.5   \n",
       "2   3             2013.583          13.3   \n",
       "3   4             2013.500          13.3   \n",
       "4   5             2012.833           5.0   \n",
       "\n",
       "   X3 distance to the nearest MRT station  X4 number of convenience stores  \\\n",
       "0                                84.87882                               10   \n",
       "1                               306.59470                                9   \n",
       "2                               561.98450                                5   \n",
       "3                               561.98450                                5   \n",
       "4                               390.56840                                5   \n",
       "\n",
       "   X5 latitude  X6 longitude  Y house price of unit area  \n",
       "0     24.98298     121.54024                        37.9  \n",
       "1     24.98034     121.53951                        42.2  \n",
       "2     24.98746     121.54391                        47.3  \n",
       "3     24.98746     121.54391                        54.8  \n",
       "4     24.97937     121.54245                        43.1  "
      ]
     },
     "execution_count": 8,
     "metadata": {},
     "output_type": "execute_result"
    }
   ],
   "source": [
    "df.head()"
   ]
  },
  {
   "cell_type": "code",
   "execution_count": 9,
   "id": "7b5a1a2f-4e84-4cef-9454-adf5eb419f72",
   "metadata": {},
   "outputs": [
    {
     "data": {
      "text/plain": [
       "(414, 8)"
      ]
     },
     "execution_count": 9,
     "metadata": {},
     "output_type": "execute_result"
    }
   ],
   "source": [
    "df.shape"
   ]
  },
  {
   "cell_type": "code",
   "execution_count": 10,
   "id": "9b28e171-02e4-4444-8d8b-ee1923fa41a2",
   "metadata": {},
   "outputs": [],
   "source": [
    "columns = list(df.columns)"
   ]
  },
  {
   "cell_type": "code",
   "execution_count": 11,
   "id": "498bac81-e58c-4a16-a1d3-922f06045624",
   "metadata": {},
   "outputs": [],
   "source": [
    "columns = [col.replace(' ','_') for col in columns]"
   ]
  },
  {
   "cell_type": "markdown",
   "id": "7c1d1350-c874-4c79-a7c0-aadf16b21492",
   "metadata": {},
   "source": [
    "# Task - 2 : Handle missing values in the dataset, deciding on an appropriate strategy "
   ]
  },
  {
   "cell_type": "code",
   "execution_count": 13,
   "id": "c2c3ab44-061a-43b2-9697-9d49d0c76cb7",
   "metadata": {},
   "outputs": [
    {
     "data": {
      "text/plain": [
       "No                                        0\n",
       "X1 transaction date                       0\n",
       "X2 house age                              0\n",
       "X3 distance to the nearest MRT station    0\n",
       "X4 number of convenience stores           0\n",
       "X5 latitude                               0\n",
       "X6 longitude                              0\n",
       "Y house price of unit area                0\n",
       "dtype: int64"
      ]
     },
     "execution_count": 13,
     "metadata": {},
     "output_type": "execute_result"
    }
   ],
   "source": [
    "# Check for missing values\n",
    "df.isnull().sum()"
   ]
  },
  {
   "cell_type": "markdown",
   "id": "644ccfe8-f09b-4e89-819f-9ffffad7c52e",
   "metadata": {},
   "source": [
    "# Task -4 : Filter and subset the data based on specific criteria, such as a particular time period, property type, or location. "
   ]
  },
  {
   "cell_type": "code",
   "execution_count": 22,
   "id": "aed3b3ca-2fd8-44e3-86e3-9cdd4843e6aa",
   "metadata": {},
   "outputs": [],
   "source": [
    "# Step 4: Filter data based on specific criteria\n",
    "# Filter properties that were sold in 2013 or later\n",
    "df_filtered = df[df['X1 transaction date'] >= 2013]"
   ]
  },
  {
   "cell_type": "code",
   "execution_count": 24,
   "id": "c3a18b88-2729-4cc1-8638-9736fe659117",
   "metadata": {},
   "outputs": [
    {
     "name": "stdout",
     "output_type": "stream",
     "text": [
      "Filtered data based on transaction date:\n",
      "   No  X1 transaction date  X2 house age  \\\n",
      "2   3             2013.583          13.3   \n",
      "3   4             2013.500          13.3   \n",
      "7   8             2013.417          20.3   \n",
      "8   9             2013.500          31.7   \n",
      "9  10             2013.417          17.9   \n",
      "\n",
      "   X3 distance to the nearest MRT station  X4 number of convenience stores  \\\n",
      "2                                561.9845                                5   \n",
      "3                                561.9845                                5   \n",
      "7                                287.6025                                6   \n",
      "8                               5512.0380                                1   \n",
      "9                               1783.1800                                3   \n",
      "\n",
      "   X5 latitude  X6 longitude  Y house price of unit area  \n",
      "2     24.98746     121.54391                        47.3  \n",
      "3     24.98746     121.54391                        54.8  \n",
      "7     24.98042     121.54228                        46.7  \n",
      "8     24.95095     121.48458                        18.8  \n",
      "9     24.96731     121.51486                        22.1  \n"
     ]
    }
   ],
   "source": [
    "print(\"Filtered data based on transaction date:\")\n",
    "print(df_filtered.head())"
   ]
  },
  {
   "cell_type": "markdown",
   "id": "5f424f5b-2310-4d94-b5e7-11f4e6184311",
   "metadata": {},
   "source": [
    "# Task -5 : Handle categorical variables by encoding them appropriately (e.g., one-hot encoding or label encoding) for further analysis. "
   ]
  },
  {
   "cell_type": "code",
   "execution_count": 27,
   "id": "651cf961-7911-4da7-a356-0b56f650ae4d",
   "metadata": {},
   "outputs": [],
   "source": [
    "# Step 5: Handle categorical variables (if any)\n",
    "# For example, assume 'property_type' is a categorical column\n",
    "# Apply one-hot encoding to convert categorical variables into numerical format\n",
    "df_encoded = pd.get_dummies(df, drop_first=True)  # One-hot encoding (drop_first avoids multicollinearity)\n",
    "# This method transforms each category of a column into a separate binary (0 or 1) column.\n",
    "#  For example, if you have a column called Color with values ['Red', 'Green', 'Blue'], it will be transformed into three separate columns:\n",
    "# Color_Red, Color_Green, Color_Blue\n",
    "# If the original value in the Color column is Red, the row will have 1 in the Color_Red column and 0 in the others."
   ]
  },
  {
   "cell_type": "code",
   "execution_count": 29,
   "id": "f103e0ea-d516-40f8-8977-cf03856c0f37",
   "metadata": {},
   "outputs": [
    {
     "name": "stdout",
     "output_type": "stream",
     "text": [
      "Encoded dataset:\n",
      "   No  X1 transaction date  X2 house age  \\\n",
      "0   1             2012.917          32.0   \n",
      "1   2             2012.917          19.5   \n",
      "2   3             2013.583          13.3   \n",
      "3   4             2013.500          13.3   \n",
      "4   5             2012.833           5.0   \n",
      "\n",
      "   X3 distance to the nearest MRT station  X4 number of convenience stores  \\\n",
      "0                                84.87882                               10   \n",
      "1                               306.59470                                9   \n",
      "2                               561.98450                                5   \n",
      "3                               561.98450                                5   \n",
      "4                               390.56840                                5   \n",
      "\n",
      "   X5 latitude  X6 longitude  Y house price of unit area  \n",
      "0     24.98298     121.54024                        37.9  \n",
      "1     24.98034     121.53951                        42.2  \n",
      "2     24.98746     121.54391                        47.3  \n",
      "3     24.98746     121.54391                        54.8  \n",
      "4     24.97937     121.54245                        43.1  \n"
     ]
    }
   ],
   "source": [
    "# By setting drop_first=True, we drop the first category in each categorical feature column.\n",
    "# For example, if you have ['Red', 'Green', 'Blue'] as categories in a column, with drop_first=True, only ['Green', 'Blue'] will be kept.\n",
    "#  This means if both Color_Green and Color_Blue are 0, then the value must be Red.\n",
    "# This is done to avoid multicollinearity (when two or more features are highly correlated, which can lead to problems in some machine learning models).\n",
    "print(\"Encoded dataset:\")\n",
    "print(df_encoded.head())"
   ]
  },
  {
   "cell_type": "markdown",
   "id": "b435ca1c-2c41-40a3-9917-edd047e08f7d",
   "metadata": {},
   "source": [
    "# Task - 6 :  Aggregate the data to calculate summary statistics or derived metrics such as average sale prices by neighborhood or property type. "
   ]
  },
  {
   "cell_type": "code",
   "execution_count": 17,
   "id": "9e6e4521-23b9-4b47-a406-18cd97dc1da2",
   "metadata": {},
   "outputs": [
    {
     "name": "stdout",
     "output_type": "stream",
     "text": [
      "Average sale price by house age:\n",
      "     X2 house age  Y house price of unit area\n",
      "0             0.0                   54.135294\n",
      "1             1.0                   50.700000\n",
      "2             1.1                   49.780000\n",
      "3             1.5                   48.700000\n",
      "4             1.7                   50.400000\n",
      "..            ...                         ...\n",
      "231          40.9                   54.350000\n",
      "232          41.3                   47.900000\n",
      "233          41.4                   63.300000\n",
      "234          42.7                   35.300000\n",
      "235          43.8                   42.700000\n",
      "\n",
      "[236 rows x 2 columns]\n"
     ]
    }
   ],
   "source": [
    "# Step 6: Aggregate data to calculate summary statistics\n",
    "# Calculate the average sale price by house age\n",
    "avg_sale_price_by_age = df.groupby('X2 house age')['Y house price of unit area'].mean().reset_index()\n",
    "# This groups the data by the column 'x2_house_age'\n",
    "# After grouping by the 'x2_house_age' column, this selects the 'y_house_price_of_unit_area' column within each group.\n",
    "# This calculates the mean (average) of 'y_house_price_of_unit_area' for each group of 'x2_house_age'.\n",
    "# The reset_index() function is used to reset the index of the resulting DataFrame,\n",
    "#  turning the grouped column (x2_house_age) back into a regular column instead of keeping it as an index.\n",
    "print(\"Average sale price by house age:\")\n",
    "print(avg_sale_price_by_age)"
   ]
  },
  {
   "cell_type": "code",
   "execution_count": 32,
   "id": "effa6c5b-599c-4cef-b702-ef55668edd04",
   "metadata": {},
   "outputs": [
    {
     "data": {
      "image/png": "[encoded data removed]",
      "text/plain": [
       "<Figure size 800x600 with 1 Axes>"
      ]
     },
     "metadata": {},
     "output_type": "display_data"
    }
   ],
   "source": [
    "plt.figure(figsize=(8,6))\n",
    "plt.scatter(df[\"X2 house age\"],df[\"Y house price of unit area\"])\n",
    "plt.xlabel(\"house age\")\n",
    "plt.ylabel(\"price per unit area\")\n",
    "plt.title(\"price of house per unit area\")\n",
    "plt.show()"
   ]
  },
  {
   "cell_type": "code",
   "execution_count": 34,
   "id": "0281e579-e9a8-4a5c-859e-eb84a23aea28",
   "metadata": {},
   "outputs": [
    {
     "data": {
      "image/png": "[encoded data removed]",
      "text/plain": [
       "<Figure size 800x600 with 1 Axes>"
      ]
     },
     "metadata": {},
     "output_type": "display_data"
    }
   ],
   "source": [
    " plt.figure(figsize=(8,6))\n",
    " plt.bar(df[\"X2 house age\"],df[\"Y house price of unit area\"])\n",
    " plt.xlabel(\"house age\")\n",
    " plt.ylabel(\"price per unit area\")\n",
    " plt.title(\"price of house per unit area\")\n",
    " plt.show()"
   ]
  },
  {
   "cell_type": "markdown",
   "id": "0d9c6de5-663a-47d3-8bae-01c860db0b20",
   "metadata": {},
   "source": [
    "# Task -7 : Identify and handle outliers or extreme values in the data that may affect the analysis or modeling process. "
   ]
  },
  {
   "cell_type": "code",
   "execution_count": 19,
   "id": "d815c656-98f9-40cc-9ec6-57e2cb604e44",
   "metadata": {},
   "outputs": [
    {
     "data": {
      "text/plain": [
       "<Axes: ylabel='Y house price of unit area'>"
      ]
     },
     "execution_count": 19,
     "metadata": {},
     "output_type": "execute_result"
    },
    {
     "data": {
      "image/png": "[encoded data removed]",
      "text/plain": [
       "<Figure size 640x480 with 1 Axes>"
      ]
     },
     "metadata": {},
     "output_type": "display_data"
    }
   ],
   "source": [
    "sns.boxplot(df['Y house price of unit area'])"
   ]
  },
  {
   "cell_type": "code",
   "execution_count": 20,
   "id": "c30ce34f-7742-431e-b967-5fe329ffdba8",
   "metadata": {},
   "outputs": [],
   "source": [
    "# Calculate the first and third quartiles\n",
    "Q1 = df['Y house price of unit area'].quantile(0.25)\n",
    "Q3 = df['Y house price of unit area'].quantile(0.75)\n",
    "\n",
    "# Calculate IQR\n",
    "IQR = Q3 - Q1\n",
    "\n",
    "# Define the lower and upper bounds\n",
    "lower_bound = Q1 - 1.5 * IQR\n",
    "upper_bound = Q3 + 1.5 * IQR\n",
    "\n",
    "# Filter out the outliers\n",
    "filtered_data = df[(df['Y house price of unit area'] >= lower_bound) & (df['Y house price of unit area'] <= upper_bound)]\n"
   ]
  },
  {
   "cell_type": "code",
   "execution_count": 21,
   "id": "6ed93be0-9db4-459b-b424-a1dcc7f43ae2",
   "metadata": {},
   "outputs": [
    {
     "data": {
      "text/plain": [
       "<Axes: ylabel='Y house price of unit area'>"
      ]
     },
     "execution_count": 21,
     "metadata": {},
     "output_type": "execute_result"
    },
    {
     "data": {
      "image/png": "[encoded data removed]",
      "text/plain": [
       "<Figure size 640x480 with 1 Axes>"
      ]
     },
     "metadata": {},
     "output_type": "display_data"
    }
   ],
   "source": [
    "sns.boxplot(df['Y house price of unit area'])"
   ]
  },
  {
   "cell_type": "code",
   "execution_count": 24,
   "id": "cc00d002-acd1-4812-bccb-708b40540357",
   "metadata": {},
   "outputs": [
    {
     "data": {
      "text/html": [
       "<div>\n",
       "<style scoped>\n",
       "    .dataframe tbody tr th:only-of-type {\n",
       "        vertical-align: middle;\n",
       "    }\n",
       "\n",
       "    .dataframe tbody tr th {\n",
       "        vertical-align: top;\n",
       "    }\n",
       "\n",
       "    .dataframe thead th {\n",
       "        text-align: right;\n",
       "    }\n",
       "</style>\n",
       "<table border=\"1\" class=\"dataframe\">\n",
       "  <thead>\n",
       "    <tr style=\"text-align: right;\">\n",
       "      <th></th>\n",
       "      <th>No</th>\n",
       "      <th>X1 transaction date</th>\n",
       "      <th>X2 house age</th>\n",
       "      <th>X3 distance to the nearest MRT station</th>\n",
       "      <th>X4 number of convenience stores</th>\n",
       "      <th>X5 latitude</th>\n",
       "      <th>X6 longitude</th>\n",
       "      <th>Y house price of unit area</th>\n",
       "    </tr>\n",
       "  </thead>\n",
       "  <tbody>\n",
       "    <tr>\n",
       "      <th>0</th>\n",
       "      <td>1</td>\n",
       "      <td>2012.917</td>\n",
       "      <td>32.0</td>\n",
       "      <td>84.87882</td>\n",
       "      <td>10</td>\n",
       "      <td>24.98298</td>\n",
       "      <td>121.54024</td>\n",
       "      <td>37.9</td>\n",
       "    </tr>\n",
       "    <tr>\n",
       "      <th>1</th>\n",
       "      <td>2</td>\n",
       "      <td>2012.917</td>\n",
       "      <td>19.5</td>\n",
       "      <td>306.59470</td>\n",
       "      <td>9</td>\n",
       "      <td>24.98034</td>\n",
       "      <td>121.53951</td>\n",
       "      <td>42.2</td>\n",
       "    </tr>\n",
       "    <tr>\n",
       "      <th>2</th>\n",
       "      <td>3</td>\n",
       "      <td>2013.583</td>\n",
       "      <td>13.3</td>\n",
       "      <td>561.98450</td>\n",
       "      <td>5</td>\n",
       "      <td>24.98746</td>\n",
       "      <td>121.54391</td>\n",
       "      <td>47.3</td>\n",
       "    </tr>\n",
       "    <tr>\n",
       "      <th>3</th>\n",
       "      <td>4</td>\n",
       "      <td>2013.500</td>\n",
       "      <td>13.3</td>\n",
       "      <td>561.98450</td>\n",
       "      <td>5</td>\n",
       "      <td>24.98746</td>\n",
       "      <td>121.54391</td>\n",
       "      <td>54.8</td>\n",
       "    </tr>\n",
       "    <tr>\n",
       "      <th>4</th>\n",
       "      <td>5</td>\n",
       "      <td>2012.833</td>\n",
       "      <td>5.0</td>\n",
       "      <td>390.56840</td>\n",
       "      <td>5</td>\n",
       "      <td>24.97937</td>\n",
       "      <td>121.54245</td>\n",
       "      <td>43.1</td>\n",
       "    </tr>\n",
       "    <tr>\n",
       "      <th>...</th>\n",
       "      <td>...</td>\n",
       "      <td>...</td>\n",
       "      <td>...</td>\n",
       "      <td>...</td>\n",
       "      <td>...</td>\n",
       "      <td>...</td>\n",
       "      <td>...</td>\n",
       "      <td>...</td>\n",
       "    </tr>\n",
       "    <tr>\n",
       "      <th>409</th>\n",
       "      <td>410</td>\n",
       "      <td>2013.000</td>\n",
       "      <td>13.7</td>\n",
       "      <td>4082.01500</td>\n",
       "      <td>0</td>\n",
       "      <td>24.94155</td>\n",
       "      <td>121.50381</td>\n",
       "      <td>15.4</td>\n",
       "    </tr>\n",
       "    <tr>\n",
       "      <th>410</th>\n",
       "      <td>411</td>\n",
       "      <td>2012.667</td>\n",
       "      <td>5.6</td>\n",
       "      <td>90.45606</td>\n",
       "      <td>9</td>\n",
       "      <td>24.97433</td>\n",
       "      <td>121.54310</td>\n",
       "      <td>50.0</td>\n",
       "    </tr>\n",
       "    <tr>\n",
       "      <th>411</th>\n",
       "      <td>412</td>\n",
       "      <td>2013.250</td>\n",
       "      <td>18.8</td>\n",
       "      <td>390.96960</td>\n",
       "      <td>7</td>\n",
       "      <td>24.97923</td>\n",
       "      <td>121.53986</td>\n",
       "      <td>40.6</td>\n",
       "    </tr>\n",
       "    <tr>\n",
       "      <th>412</th>\n",
       "      <td>413</td>\n",
       "      <td>2013.000</td>\n",
       "      <td>8.1</td>\n",
       "      <td>104.81010</td>\n",
       "      <td>5</td>\n",
       "      <td>24.96674</td>\n",
       "      <td>121.54067</td>\n",
       "      <td>52.5</td>\n",
       "    </tr>\n",
       "    <tr>\n",
       "      <th>413</th>\n",
       "      <td>414</td>\n",
       "      <td>2013.500</td>\n",
       "      <td>6.5</td>\n",
       "      <td>90.45606</td>\n",
       "      <td>9</td>\n",
       "      <td>24.97433</td>\n",
       "      <td>121.54310</td>\n",
       "      <td>63.9</td>\n",
       "    </tr>\n",
       "  </tbody>\n",
       "</table>\n",
       "<p>411 rows × 8 columns</p>\n",
       "</div>"
      ],
      "text/plain": [
       "      No  X1 transaction date  X2 house age  \\\n",
       "0      1             2012.917          32.0   \n",
       "1      2             2012.917          19.5   \n",
       "2      3             2013.583          13.3   \n",
       "3      4             2013.500          13.3   \n",
       "4      5             2012.833           5.0   \n",
       "..   ...                  ...           ...   \n",
       "409  410             2013.000          13.7   \n",
       "410  411             2012.667           5.6   \n",
       "411  412             2013.250          18.8   \n",
       "412  413             2013.000           8.1   \n",
       "413  414             2013.500           6.5   \n",
       "\n",
       "     X3 distance to the nearest MRT station  X4 number of convenience stores  \\\n",
       "0                                  84.87882                               10   \n",
       "1                                 306.59470                                9   \n",
       "2                                 561.98450                                5   \n",
       "3                                 561.98450                                5   \n",
       "4                                 390.56840                                5   \n",
       "..                                      ...                              ...   \n",
       "409                              4082.01500                                0   \n",
       "410                                90.45606                                9   \n",
       "411                               390.96960                                7   \n",
       "412                               104.81010                                5   \n",
       "413                                90.45606                                9   \n",
       "\n",
       "     X5 latitude  X6 longitude  Y house price of unit area  \n",
       "0       24.98298     121.54024                        37.9  \n",
       "1       24.98034     121.53951                        42.2  \n",
       "2       24.98746     121.54391                        47.3  \n",
       "3       24.98746     121.54391                        54.8  \n",
       "4       24.97937     121.54245                        43.1  \n",
       "..           ...           ...                         ...  \n",
       "409     24.94155     121.50381                        15.4  \n",
       "410     24.97433     121.54310                        50.0  \n",
       "411     24.97923     121.53986                        40.6  \n",
       "412     24.96674     121.54067                        52.5  \n",
       "413     24.97433     121.54310                        63.9  \n",
       "\n",
       "[411 rows x 8 columns]"
      ]
     },
     "execution_count": 24,
     "metadata": {},
     "output_type": "execute_result"
    }
   ],
   "source": [
    "filtered_data"
   ]
  }
 ],
 "metadata": {
  "kernelspec": {
   "display_name": "Python 3 (ipykernel)",
   "language": "python",
   "name": "python3"
  },
  "language_info": {
   "codemirror_mode": {
    "name": "ipython",
    "version": 3
   },
   "file_extension": ".py",
   "mimetype": "text/x-python",
   "name": "python",
   "nbconvert_exporter": "python",
   "pygments_lexer": "ipython3",
   "version": "3.9.20"
  }
 },
 "nbformat": 4,
 "nbformat_minor": 5
}
