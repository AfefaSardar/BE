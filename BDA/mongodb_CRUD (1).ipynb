{
  "nbformat": 4,
  "nbformat_minor": 0,
  "metadata": {
    "colab": {
      "provenance": []
    },
    "kernelspec": {
      "name": "python3",
      "display_name": "Python 3"
    },
    "language_info": {
      "name": "python"
    }
  },
  "cells": [
    {
      "cell_type": "code",
      "execution_count": null,
      "metadata": {
        "id": "rYSCkOF3IX3p"
      },
      "outputs": [],
      "source": [
        "use studentDB\n",
        "db.createCollection(\"students\")\n",
        "\n",
        "// Insert\n",
        "db.students.insertOne({rollno: 1, name: \"Ravi\", marks: 85})\n",
        "db.students.insertMany([\n",
        "  {rollno: 2, name: \"Sneha\", marks: 90},\n",
        "  {rollno: 3, name: \"Amit\", marks: 75},\n",
        "  {rollno: 4, name: \"Priya\", marks: 82},\n",
        "  {rollno: 5, name: \"Karan\", marks: 60, status: \"pass\"}\n",
        "])\n",
        "\n",
        "// Query\n",
        "db.students.find()\n",
        "db.students.find({rollno: 2})\n",
        "db.students.find({marks: {$gt: 80}})\n",
        "db.students.find({status: \"pass\"})\n",
        "\n",
        "// Update\n",
        "db.students.updateOne({rollno: 3}, {$set: {marks: 80}})\n",
        "db.students.updateMany({marks: {$lt: 65}}, {$set: {status: \"fail\"}})\n",
        "\n",
        "// Delete\n",
        "db.students.deleteOne({rollno: 1})\n",
        "db.students.deleteMany({status: \"fail\"})\n"
      ]
    },
    {
      "cell_type": "code",
      "source": [
        "Input:\n",
        "{rollno: 1, name: \"Ravi\", marks: 85}\n",
        "{rollno: 2, name: \"Sneha\", marks: 90}\n",
        "{rollno: 3, name: \"Amit\", marks: 75}\n",
        "{rollno: 4, name: \"Priya\", marks: 82}\n",
        "{rollno: 5, name: \"Karan\", marks: 60, status: \"pass\"}\n",
        "Output after all operations:\n",
        "{ \"rollno\" : 2, \"name\" : \"Sneha\", \"marks\" : 90 }\n",
        "{ \"rollno\" : 3, \"name\" : \"Amit\", \"marks\" : 80 }\n",
        "{ \"rollno\" : 4, \"name\" : \"Priya\", \"marks\" : 82 }\n",
        "{ \"rollno\" : 5, \"name\" : \"Karan\", \"marks\" : 60, \"status\" : \"pass\" }"
      ],
      "metadata": {
        "id": "SEENdPcNIpik"
      },
      "execution_count": null,
      "outputs": []
    }
  ]
}