{
  "nbformat": 4,
  "nbformat_minor": 0,
  "metadata": {
    "colab": {
      "provenance": []
    },
    "kernelspec": {
      "name": "python3",
      "display_name": "Python 3"
    },
    "language_info": {
      "name": "python"
    }
  },
  "cells": [
    {
      "cell_type": "code",
      "execution_count": null,
      "metadata": {
        "id": "CppILvrQH7iv"
      },
      "outputs": [],
      "source": [
        "#Sample Input File (titanic.csv):\n",
        "PassengerId,Survived,Pclass,Name,Sex,Age\n",
        "1,0,3,John,male,22\n",
        "2,1,1,Mary,female,38\n",
        "3,1,3,Anna,female,26\n",
        "4,0,1,Bob,male,35\n",
        "5,0,2,Lily,female,30\n",
        "6,0,3,Susan,female,18"
      ]
    },
    {
      "cell_type": "code",
      "source": [
        "#!/usr/bin/env python3\n",
        "import sys\n",
        "\n",
        "for line in sys.stdin:\n",
        "    if line.startswith(\"PassengerId\"):\n",
        "        continue\n",
        "    fields = line.strip().split(',')\n",
        "    if len(fields) < 6:\n",
        "        continue\n",
        "\n",
        "    survived = fields[1]\n",
        "    pclass = fields[2]\n",
        "    sex = fields[4].lower()\n",
        "    age = fields[5]\n",
        "\n",
        "    if survived == '0':  # only for those who died\n",
        "        if sex == 'male' and age:\n",
        "            print(\"male\\t\" + age)\n",
        "        elif sex == 'female':\n",
        "            print(f\"class_{pclass}\\t1\")\n"
      ],
      "metadata": {
        "id": "Jxj3fF62H_JM"
      },
      "execution_count": null,
      "outputs": []
    },
    {
      "cell_type": "code",
      "source": [
        "#!/usr/bin/env python3\n",
        "import sys\n",
        "\n",
        "male_age_sum = 0\n",
        "male_count = 0\n",
        "class_deaths = {}\n",
        "\n",
        "for line in sys.stdin:\n",
        "    key, value = line.strip().split('\\t')\n",
        "\n",
        "    if key == \"male\":\n",
        "        try:\n",
        "            age = float(value)\n",
        "            male_age_sum += age\n",
        "            male_count += 1\n",
        "        except ValueError:\n",
        "            continue\n",
        "    elif key.startswith(\"class_\"):\n",
        "        if key in class_deaths:\n",
        "            class_deaths[key] += 1\n",
        "        else:\n",
        "            class_deaths[key] = 1\n",
        "\n",
        "if male_count > 0:\n",
        "    avg_age = male_age_sum / male_count\n",
        "    print(f\"Average age of deceased males: {avg_age:.2f}\")\n",
        "\n",
        "for cls in sorted(class_deaths):\n",
        "    print(f\"{cls.replace('class_', 'Class ')} female deaths: {class_deaths[cls]}\")\n"
      ],
      "metadata": {
        "id": "XMT53Y6rICc_"
      },
      "execution_count": null,
      "outputs": []
    },
    {
      "cell_type": "code",
      "source": [
        "#Execution Commands:\n",
        "\n",
        "\n",
        "# Upload file to HDFS\n",
        "hadoop fs -put titanic.csv /input/titanic.csv\n",
        "# Run MapReduce job\n",
        "hadoop jar /usr/lib/hadoop-mapreduce/hadoop-streaming.jar \\\n",
        "-files mapper.py,reducer.py \\\n",
        "-mapper mapper.py \\\n",
        "-reducer reducer.py \\\n",
        "-input /input/titanic.csv \\\n",
        "-output /output_titanic\n",
        "# View output\n",
        "hadoop fs -cat /output_titanic/part-00000"
      ],
      "metadata": {
        "id": "LgadDuf3IEwL"
      },
      "execution_count": null,
      "outputs": []
    },
    {
      "cell_type": "code",
      "source": [],
      "metadata": {
        "id": "8XuA6jdOIJWK"
      },
      "execution_count": null,
      "outputs": []
    }
  ]
}