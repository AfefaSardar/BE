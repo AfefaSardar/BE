{
 "cells": [
  {
   "cell_type": "code",
   "execution_count": null,
   "id": "412c0d69-be2e-49cc-b873-654376105a7d",
   "metadata": {},
   "outputs": [],
   "source": [
    "class LoadBalancer:\n",
    "    def __init__(self, servers):\n",
    "        self.servers = servers\n",
    "        self.current_index = 0\n",
    "\n",
    "    def get_next_server(self):\n",
    "        next_server = self.servers[self.current_index]\n",
    "        self.current_index = (self.current_index + 1) % len(self.servers)\n",
    "        return next_server\n",
    "\n",
    "\n",
    "# Sample list of servers\n",
    "server_list = [\"Server1\", \"Server2\", \"Server3\"]\n",
    "\n",
    "# Create a load balancer with the server list\n",
    "load_balancer = LoadBalancer(server_list)\n",
    "\n",
    "# Simulate requests to the load balancer\n",
    "for i in range(10):\n",
    "    next_server = load_balancer.get_next_server()\n",
    "    print(f\"Request {i + 1}: Routed to {next_server}\")\n"
   ]
  },
  {
   "cell_type": "code",
   "execution_count": null,
   "id": "d2264218-188f-4c34-8e33-26b57dbce9de",
   "metadata": {},
   "outputs": [],
   "source": [
    "import random\n",
    "\n",
    "class LeastConnectionLoadBalancer:\n",
    "    def __init__(self):\n",
    "        self.server_connections = {}\n",
    "\n",
    "    def add_server(self, server_name):\n",
    "        # Add a server to the load balancer with 0 initial connections\n",
    "        self.server_connections[server_name] = 0\n",
    "\n",
    "    def get_server_with_least_connections(self):\n",
    "        # Find the server with the least active connections\n",
    "        min_connections = float('inf')\n",
    "        selected_server = None\n",
    "\n",
    "        for server, connections in self.server_connections.items():\n",
    "            if connections < min_connections:\n",
    "                min_connections = connections\n",
    "                selected_server = server\n",
    "\n",
    "        # Increment the connection count for the selected server\n",
    "        if selected_server:\n",
    "            self.server_connections[selected_server] += 1\n",
    "\n",
    "        return selected_server\n",
    "\n",
    "\n",
    "# Create a Least Connection load balancer\n",
    "load_balancer = LeastConnectionLoadBalancer()\n",
    "\n",
    "# Add servers to the load balancer\n",
    "load_balancer.add_server(\"Server1\")\n",
    "load_balancer.add_server(\"Server2\")\n",
    "load_balancer.add_server(\"Server3\")\n",
    "\n",
    "# Simulate requests with random initial connections to make it more noticeable\n",
    "for i in range(3):  # Add some random initial connections\n",
    "    server = random.choice([\"Server1\", \"Server2\", \"Server3\"])\n",
    "    load_balancer.server_connections[server] += random.randint(1, 5)  # Randomly increment the connection count\n",
    "\n",
    "# Simulate requests and print the server to which each request is routed\n",
    "for i in range(10):\n",
    "    selected_server = load_balancer.get_server_with_least_connections()\n",
    "    print(f\"Request {i + 1}: Routed to {selected_server}\")\n",
    "    print(f\"Current Connections: {load_balancer.server_connections}\")\n"
   ]
  }
 ],
 "metadata": {
  "kernelspec": {
   "display_name": "Python 3 (ipykernel)",
   "language": "python",
   "name": "python3"
  },
  "language_info": {
   "codemirror_mode": {
    "name": "ipython",
    "version": 3
   },
   "file_extension": ".py",
   "mimetype": "text/x-python",
   "name": "python",
   "nbconvert_exporter": "python",
   "pygments_lexer": "ipython3",
   "version": "3.9.20"
  }
 },
 "nbformat": 4,
 "nbformat_minor": 5
}
