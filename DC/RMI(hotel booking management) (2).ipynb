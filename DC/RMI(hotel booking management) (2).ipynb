{
 "cells": [
  {
   "cell_type": "code",
   "execution_count": null,
   "id": "4961ff50-4e97-4209-9667-945381af59ee",
   "metadata": {},
   "outputs": [],
   "source": [
    "import Pyro5.api\n",
    "@Pyro5.api.expose\n",
    "\n",
    "class HotelBooking:\n",
    "    def __init__(self):\n",
    "        self.bookings = set()\n",
    "\n",
    "    def book_room(self, guest_name):\n",
    "        if guest_name in self.bookings:\n",
    "            return f\"{guest_name} already has a booking.\"\n",
    "        self.bookings.add(guest_name)\n",
    "        return f\"Room booked successfully for {guest_name}.\"\n",
    "        \n",
    "    def cancel_booking(self, guest_name):\n",
    "        if guest_name in self.bookings:\n",
    "            self.bookings.remove(guest_name)\n",
    "            return f\"Booking for {guest_name} canceled.\"\n",
    "        return f\"No booking found for {guest_name}.\"\n",
    "\n",
    "daemon = Pyro5.api.Daemon()\n",
    "uri = daemon.register(HotelBooking)\n",
    "print(\"Hotel Booking Server is ready.\")\n",
    "print(f\"URI: {uri}\")\n",
    "daemon.requestLoop()\n",
    "\n"
   ]
  },
  {
   "cell_type": "code",
   "execution_count": null,
   "id": "12c51b89-2659-4c77-a78f-aaa9167c53e3",
   "metadata": {},
   "outputs": [],
   "source": [
    "import Pyro5.api\n",
    "uri = input(\"Enter the server URI: \").strip()\n",
    "hotel = Pyro5.api.Proxy(uri)\n",
    "\n",
    "while True:\n",
    "\n",
    "    choice = input(\"\\nHotel Booking System:\\1. Book Room\\n2. Cancel Booking\\n3. Exit\\nEnter choice: \")\n",
    "    if choice == \"1\":\n",
    "        name = input(\"Enter guest name: \")\n",
    "        print(hotel.book_room(name))\n",
    "\n",
    "    elif choice == \"2\":\n",
    "        name = input(\"Enter guest name to cancel: \")\n",
    "        print(hotel.cancel_booking(name))\n",
    "\n",
    "    elif choice == \"3\":\n",
    "        print(\"Goodbye!\")\n",
    "        break\n",
    "\n",
    "    else:\n",
    "        print(\"Invalid choice. Try again.\")"
   ]
  }
 ],
 "metadata": {
  "kernelspec": {
   "display_name": "Python 3 (ipykernel)",
   "language": "python",
   "name": "python3"
  },
  "language_info": {
   "codemirror_mode": {
    "name": "ipython",
    "version": 3
   },
   "file_extension": ".py",
   "mimetype": "text/x-python",
   "name": "python",
   "nbconvert_exporter": "python",
   "pygments_lexer": "ipython3",
   "version": "3.9.20"
  }
 },
 "nbformat": 4,
 "nbformat_minor": 5
}
