{
 "cells": [
  {
   "cell_type": "code",
   "execution_count": null,
   "id": "73304eb2-caba-49a0-81ee-366d5115e8a7",
   "metadata": {},
   "outputs": [],
   "source": [
    "# server1.py\n",
    "import Pyro4\n",
    "\n",
    "@Pyro4.expose\n",
    "class StringConcat:\n",
    "    def concatenate(self, s1, s2):\n",
    "        return s1 + s2\n",
    "\n",
    "daemon = Pyro4.Daemon()\n",
    "uri = daemon.register(StringConcat)\n",
    "print(\"Ready. Object URI =\", uri)\n",
    "daemon.requestLoop()\n"
   ]
  },
  {
   "cell_type": "code",
   "execution_count": null,
   "id": "3d8703d7-572d-4fc2-baf0-89df0a94edb5",
   "metadata": {},
   "outputs": [],
   "source": [
    "import Pyro4\n",
    "\n",
    "uri = input(\"Enter the server URI: \").strip()  # <<< use .strip() to clean input\n",
    "string_concatenator = Pyro4.Proxy(uri)\n",
    "\n",
    "s1 = input(\"Enter first string: \")\n",
    "s2 = input(\"Enter second string: \")\n",
    "\n",
    "result = string_concatenator.concatenate(s1, s2)\n",
    "print(\"Concatenated string:\", result)\n"
   ]
  }
 ],
 "metadata": {
  "kernelspec": {
   "display_name": "Python 3 (ipykernel)",
   "language": "python",
   "name": "python3"
  },
  "language_info": {
   "codemirror_mode": {
    "name": "ipython",
    "version": 3
   },
   "file_extension": ".py",
   "mimetype": "text/x-python",
   "name": "python",
   "nbconvert_exporter": "python",
   "pygments_lexer": "ipython3",
   "version": "3.9.20"
  }
 },
 "nbformat": 4,
 "nbformat_minor": 5
}
