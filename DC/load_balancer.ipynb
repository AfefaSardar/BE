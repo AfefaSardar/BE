{
 "cells": [
  {
   "cell_type": "code",
   "execution_count": null,
   "id": "f840d272-3d65-4e1a-8d91-9926dacbb02b",
   "metadata": {},
   "outputs": [],
   "source": [
    "# server\n",
    "import Pyro4\n",
    "\n",
    "@Pyro4.expose\n",
    "class StringConcat:\n",
    "    def concatenate(self, s1, s2):\n",
    "        return s1 + s2\n",
    "\n",
    "daemon = Pyro4.Daemon()\n",
    "uri = daemon.register(StringConcat)\n",
    "print(\"Ready. Object URI =\", uri)\n",
    "daemon.requestLoop()\n",
    "\n",
    "#"
   ]
  },
  {
   "cell_type": "code",
   "execution_count": null,
   "id": "b3085553-7337-4ff0-83ca-4b0d46ac68a7",
   "metadata": {},
   "outputs": [],
   "source": [
    "#client\n",
    "\n",
    "import xmlrpc.client\n",
    "\n",
    "# Connect to the server\n",
    "proxy = xmlrpc.client.ServerProxy(\"http://localhost:8000/\")\n",
    "\n",
    "# Input number\n",
    "num = int(input(\"Enter an integer to calculate factorial: \"))\n",
    "\n",
    "# Call the remote factorial function\n",
    "result = proxy.factorial(num)\n",
    "\n",
    "print(f\"Factorial of {num} is: {result}\")\n",
    "\n",
    "#python3 client.py"
   ]
  },
  {
   "cell_type": "code",
   "execution_count": null,
   "id": "e5181feb-7143-4d22-af5d-4fec6b7074d1",
   "metadata": {},
   "outputs": [],
   "source": []
  }
 ],
 "metadata": {
  "kernelspec": {
   "display_name": "Python 3 (ipykernel)",
   "language": "python",
   "name": "python3"
  },
  "language_info": {
   "codemirror_mode": {
    "name": "ipython",
    "version": 3
   },
   "file_extension": ".py",
   "mimetype": "text/x-python",
   "name": "python",
   "nbconvert_exporter": "python",
   "pygments_lexer": "ipython3",
   "version": "3.9.20"
  }
 },
 "nbformat": 4,
 "nbformat_minor": 5
}
