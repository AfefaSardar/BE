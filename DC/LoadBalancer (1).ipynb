{
 "cells": [
  {
   "cell_type": "code",
   "execution_count": 1,
   "id": "412c0d69-be2e-49cc-b873-654376105a7d",
   "metadata": {},
   "outputs": [
    {
     "name": "stdout",
     "output_type": "stream",
     "text": [
      "Request 1: Sent to Server1\n",
      "Request 2: Sent to Server2\n",
      "Request 3: Sent to Server3\n",
      "Request 4: Sent to Server1\n",
      "Request 5: Sent to Server2\n",
      "Request 6: Sent to Server3\n",
      "Request 7: Sent to Server1\n",
      "Request 8: Sent to Server2\n",
      "Request 9: Sent to Server3\n",
      "Request 10: Sent to Server1\n"
     ]
    }
   ],
   "source": [
    "class SimpleBalancer:\n",
    "    def __init__(self, server_list):\n",
    "        self.server_list = server_list\n",
    "        self.index = 0\n",
    "\n",
    "    def next_server(self):\n",
    "        server = self.server_list[self.index]\n",
    "        self.index = (self.index + 1) % len(self.server_list)\n",
    "        return server\n",
    "\n",
    "\n",
    "# List of servers\n",
    "servers = [\"Server1\", \"Server2\", \"Server3\"]\n",
    "\n",
    "# Create the balancer\n",
    "balancer = SimpleBalancer(servers)\n",
    "\n",
    "# Handle some requests\n",
    "for i in range(10):\n",
    "    server = balancer.next_server()\n",
    "    print(f\"Request {i + 1}: Sent to {server}\")\n"
   ]
  },
  {
   "cell_type": "code",
   "execution_count": null,
   "id": "d2264218-188f-4c34-8e33-26b57dbce9de",
   "metadata": {},
   "outputs": [],
   "source": [
    "import random\n",
    "\n",
    "class LoadBalancer:\n",
    "    def __init__(self):\n",
    "        self.servers = {}\n",
    "\n",
    "    def add_server(self, name):\n",
    "        # Add a new server with 0 connections\n",
    "        self.servers[name] = 0\n",
    "\n",
    "    def pick_server(self):\n",
    "        # Pick the server with the fewest connections\n",
    "        least_connections = float('inf')\n",
    "        chosen_server = None\n",
    "\n",
    "        for server, connections in self.servers.items():\n",
    "            if connections < least_connections:\n",
    "                least_connections = connections\n",
    "                chosen_server = server\n",
    "\n",
    "        # Increase the connection count for the chosen server\n",
    "        if chosen_server:\n",
    "            self.servers[chosen_server] += 1\n",
    "\n",
    "        return chosen_server\n",
    "\n",
    "\n",
    "# Create a load balancer\n",
    "lb = LoadBalancer()\n",
    "\n",
    "# Add servers\n",
    "lb.add_server(\"Server1\")\n",
    "lb.add_server(\"Server2\")\n",
    "lb.add_server(\"Server3\")\n",
    "\n",
    "# Add some random starting connections\n",
    "for i in range(3):\n",
    "    server = random.choice([\"Server1\", \"Server2\", \"Server3\"])\n",
    "    lb.servers[server] += random.randint(1, 5)\n",
    "\n",
    "# Simulate requests\n",
    "for i in range(10):\n",
    "    server = lb.pick_server()\n",
    "    print(f\"Request {i + 1}: Sent to {server}\")\n",
    "    print(f\"Current Connections: {lb.servers}\")\n"
   ]
  }
 ],
 "metadata": {
  "kernelspec": {
   "display_name": "Python 3 (ipykernel)",
   "language": "python",
   "name": "python3"
  },
  "language_info": {
   "codemirror_mode": {
    "name": "ipython",
    "version": 3
   },
   "file_extension": ".py",
   "mimetype": "text/x-python",
   "name": "python",
   "nbconvert_exporter": "python",
   "pygments_lexer": "ipython3",
   "version": "3.9.20"
  }
 },
 "nbformat": 4,
 "nbformat_minor": 5
}
