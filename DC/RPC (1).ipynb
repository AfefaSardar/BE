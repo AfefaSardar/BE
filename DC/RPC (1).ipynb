{
 "cells": [
  {
   "cell_type": "code",
   "execution_count": null,
   "id": "872e1143-23fd-49b7-b1e3-210d1ee26659",
   "metadata": {},
   "outputs": [],
   "source": [
    "from xmlrpc.server import SimpleXMLRPCServer\n",
    "\n",
    "# Define factorial function\n",
    "def factorial(n):\n",
    "    if n == 0 or n == 1:\n",
    "        return 1\n",
    "    return n * factorial(n - 1)\n",
    "\n",
    "# Create server\n",
    "server = SimpleXMLRPCServer((\"localhost\", 8000))\n",
    "\n",
    "print(\"Server is listening on port 8000...\")\n",
    "\n",
    "# Register the function\n",
    "server.register_function(factorial, \"factorial\")\n",
    "\n",
    "# Run the server\n",
    "server.serve_forever()\n"
   ]
  },
  {
   "cell_type": "code",
   "execution_count": null,
   "id": "9c727745-f948-4e66-b1fd-2e5be673a60b",
   "metadata": {},
   "outputs": [],
   "source": [
    "import xmlrpc.client\n",
    "\n",
    "# Connect to the server\n",
    "proxy = xmlrpc.client.ServerProxy(\"http://localhost:8000/\")\n",
    "\n",
    "# Input number\n",
    "num = int(input(\"Enter an integer to calculate factorial: \"))\n",
    "\n",
    "# Call the remote factorial function\n",
    "result = proxy.factorial(num)\n",
    "\n",
    "print(f\"Factorial of {num} is: {result}\")"
   ]
  }
 ],
 "metadata": {
  "kernelspec": {
   "display_name": "Python 3 (ipykernel)",
   "language": "python",
   "name": "python3"
  },
  "language_info": {
   "codemirror_mode": {
    "name": "ipython",
    "version": 3
   },
   "file_extension": ".py",
   "mimetype": "text/x-python",
   "name": "python",
   "nbconvert_exporter": "python",
   "pygments_lexer": "ipython3",
   "version": "3.9.20"
  }
 },
 "nbformat": 4,
 "nbformat_minor": 5
}
