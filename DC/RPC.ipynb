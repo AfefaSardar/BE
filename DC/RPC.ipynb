{
 "cells": [
  {
   "cell_type": "code",
   "execution_count": null,
   "id": "a9624f96-c059-4f2a-9c14-ae46bcd0c8ac",
   "metadata": {},
   "outputs": [
    {
     "name": "stdout",
     "output_type": "stream",
     "text": [
      "Server is listening on port 8000...\n"
     ]
    }
   ],
   "source": [
    "#server\n",
    "from xmlrpc.server import SimpleXMLRPCServer\n",
    "\n",
    "# Define factorial function\n",
    "def factorial(n):\n",
    "    if n == 0 or n == 1:\n",
    "        return 1\n",
    "    return n * factorial(n - 1)\n",
    "\n",
    "# Create server\n",
    "server = SimpleXMLRPCServer((\"localhost\", 8000))\n",
    "\n",
    "print(\"Server is listening on port 8000...\")\n",
    "\n",
    "# Register the function\n",
    "server.register_function(factorial, \"factorial\")\n",
    "\n",
    "# Run the server\n",
    "server.serve_forever()\n",
    "\n",
    "#python3 server.py"
   ]
  },
  {
   "cell_type": "code",
   "execution_count": null,
   "id": "b3085553-7337-4ff0-83ca-4b0d46ac68a7",
   "metadata": {},
   "outputs": [],
   "source": [
    "#client\n",
    "\n",
    "import xmlrpc.client\n",
    "\n",
    "# Connect to the server\n",
    "proxy = xmlrpc.client.ServerProxy(\"http://localhost:8000/\")\n",
    "\n",
    "# Input number\n",
    "num = int(input(\"Enter an integer to calculate factorial: \"))\n",
    "\n",
    "# Call the remote factorial function\n",
    "result = proxy.factorial(num)\n",
    "\n",
    "print(f\"Factorial of {num} is: {result}\")\n",
    "\n",
    "#python3 client.py"
   ]
  },
  {
   "cell_type": "code",
   "execution_count": null,
   "id": "e5181feb-7143-4d22-af5d-4fec6b7074d1",
   "metadata": {},
   "outputs": [],
   "source": []
  }
 ],
 "metadata": {
  "kernelspec": {
   "display_name": "Python 3 (ipykernel)",
   "language": "python",
   "name": "python3"
  },
  "language_info": {
   "codemirror_mode": {
    "name": "ipython",
    "version": 3
   },
   "file_extension": ".py",
   "mimetype": "text/x-python",
   "name": "python",
   "nbconvert_exporter": "python",
   "pygments_lexer": "ipython3",
   "version": "3.9.20"
  }
 },
 "nbformat": 4,
 "nbformat_minor": 5
}
