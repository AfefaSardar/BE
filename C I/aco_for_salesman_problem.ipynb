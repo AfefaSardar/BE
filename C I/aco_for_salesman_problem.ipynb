{
  "nbformat": 4,
  "nbformat_minor": 0,
  "metadata": {
    "colab": {
      "provenance": []
    },
    "kernelspec": {
      "name": "python3",
      "display_name": "Python 3"
    },
    "language_info": {
      "name": "python"
    }
  },
  "cells": [
    {
      "cell_type": "code",
      "execution_count": 1,
      "metadata": {
        "id": "ZTf9EOmkJvvC"
      },
      "outputs": [],
      "source": [
        "import numpy as np\n",
        "import random"
      ]
    },
    {
      "cell_type": "code",
      "source": [
        "# Define the distance matrix (distances between cities)\n",
        "# Replace this with your distance matrix or generate one based on your problem\n",
        "# Example distance matrix (replace this with your actual data)\n",
        "distance_matrix = np.array([\n",
        "    [0, 10, 15, 20],\n",
        "    [10, 0, 35, 25],\n",
        "    [15, 35, 0, 30],\n",
        "    [20, 25, 30, 0]\n",
        "])"
      ],
      "metadata": {
        "id": "mdUV8mWaLkUO"
      },
      "execution_count": 2,
      "outputs": []
    },
    {
      "cell_type": "code",
      "source": [
        "# Parameters for Ant Colony Optimization\n",
        "num_ants = 10\n",
        "num_iterations = 50\n",
        "evaporation_rate = 0.5\n",
        "pheromone_constant = 1.0\n",
        "heuristic_constant = 1.0"
      ],
      "metadata": {
        "id": "7bgmJsXHLnT3"
      },
      "execution_count": 3,
      "outputs": []
    },
    {
      "cell_type": "code",
      "source": [
        "# Initialize pheromone matrix and visibility matrix\n",
        "num_cities = len(distance_matrix)\n",
        "pheromone = np.ones((num_cities, num_cities))  # Pheromone matrix\n",
        "visibility = 1 / (distance_matrix + np.eye(num_cities) * 1e10) # Visibility matrix (inverse of distance)"
      ],
      "metadata": {
        "id": "_RF9FpfALqrO"
      },
      "execution_count": 5,
      "outputs": []
    },
    {
      "cell_type": "code",
      "source": [
        "# ACO algorithm\n",
        "for iteration in range(num_iterations):\n",
        "    ant_routes = []\n",
        "    for ant in range(num_ants):\n",
        "        current_city = random.randint(0, num_cities - 1)\n",
        "        visited_cities = [current_city]\n",
        "        route = [current_city]\n",
        "\n",
        "        while len(visited_cities) < num_cities:\n",
        "            probabilities = []\n",
        "            for city in range(num_cities):\n",
        "                if city not in visited_cities:\n",
        "                    pheromone_value = pheromone[current_city][city]\n",
        "                    visibility_value = visibility[current_city][city]\n",
        "                    probability = (pheromone_value ** pheromone_constant) * (visibility_value ** heuristic_constant)\n",
        "                    probabilities.append((city, probability))\n",
        "\n",
        "            probabilities = sorted(probabilities, key=lambda x: x[1], reverse=True)\n",
        "            selected_city = probabilities[0][0]\n",
        "            route.append(selected_city)\n",
        "            visited_cities.append(selected_city)\n",
        "            current_city = selected_city\n",
        "\n",
        "        ant_routes.append(route)\n",
        "\n",
        "        # Update pheromone levels\n",
        "    delta_pheromone = np.zeros((num_cities, num_cities))\n",
        "    for ant, route in enumerate(ant_routes):\n",
        "        for i in range(len(route) - 1):\n",
        "            city_a = route[i]\n",
        "            city_b = route[i + 1]\n",
        "            delta_pheromone[city_a][city_b] += 1 / distance_matrix[city_a][city_b]\n",
        "            delta_pheromone[city_b][city_a] += 1 / distance_matrix[city_a][city_b]\n",
        "\n",
        "    pheromone = (1 - evaporation_rate) * pheromone + delta_pheromone"
      ],
      "metadata": {
        "id": "PMGFn_L-Lt_5"
      },
      "execution_count": 6,
      "outputs": []
    },
    {
      "cell_type": "code",
      "source": [
        "# Find the best route\n",
        "best_route_index = np.argmax([sum(distance_matrix[cities[i]][cities[(i + 1) % num_cities]] for i in range(num_cities)) for cities in ant_routes])\n",
        "best_route = ant_routes[best_route_index]\n",
        "shortest_distance = sum(distance_matrix[best_route[i]][best_route[(i + 1) % num_cities]] for i in range(num_cities))"
      ],
      "metadata": {
        "id": "H4lYs0JlMMjG"
      },
      "execution_count": 7,
      "outputs": []
    },
    {
      "cell_type": "code",
      "source": [
        "print(\"Best route:\", best_route)\n",
        "print(\"Shortest distance:\", shortest_distance)"
      ],
      "metadata": {
        "colab": {
          "base_uri": "https://localhost:8080/"
        },
        "id": "NKTGct9NMROs",
        "outputId": "d065a2ab-065b-4fb3-eb9e-fb69079a4440"
      },
      "execution_count": 8,
      "outputs": [
        {
          "output_type": "stream",
          "name": "stdout",
          "text": [
            "Best route: [2, 0, 1, 3]\n",
            "Shortest distance: 80\n"
          ]
        }
      ]
    },
    {
      "cell_type": "code",
      "source": [],
      "metadata": {
        "id": "7_ejVvXpMVBy"
      },
      "execution_count": null,
      "outputs": []
    }
  ]
}