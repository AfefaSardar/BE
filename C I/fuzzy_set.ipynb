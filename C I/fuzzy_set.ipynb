{
  "nbformat": 4,
  "nbformat_minor": 0,
  "metadata": {
    "colab": {
      "provenance": []
    },
    "kernelspec": {
      "name": "python3",
      "display_name": "Python 3"
    },
    "language_info": {
      "name": "python"
    }
  },
  "cells": [
    {
      "cell_type": "markdown",
      "source": [
        "# Problem Statement - Implement Union, Intersection, Complement and Difference operations on fuzzy sets. Also create fuzzy relations by Cartesian product of any two fuzzy sets and perform max-min composition on any two fuzzy relations."
      ],
      "metadata": {
        "id": "7yoSvh1Lu7Hq"
      }
    },
    {
      "cell_type": "code",
      "source": [
        "import numpy as np"
      ],
      "metadata": {
        "id": "saYyWrO_vIBF"
      },
      "execution_count": 61,
      "outputs": []
    },
    {
      "cell_type": "code",
      "source": [
        "# Define fuzzy sets A and B as dictionaries\n",
        "A = {'x1': 0.2, 'x2': 0.7, 'x3': 0.5}\n",
        "B = {'x1': 0.6, 'x2': 0.4, 'x3': 0.8}"
      ],
      "metadata": {
        "id": "juo2zARpvlp6"
      },
      "execution_count": 62,
      "outputs": []
    },
    {
      "cell_type": "code",
      "source": [
        "# Union: max(A, B)\n",
        "def fuzzy_union(A, B):\n",
        "    return {key: max(A[key], B[key]) for key in A}\n",
        "\n",
        "\n",
        "print(\"Union:\", fuzzy_union(A,B))"
      ],
      "metadata": {
        "colab": {
          "base_uri": "https://localhost:8080/"
        },
        "id": "jgoGEnU8vKZM",
        "outputId": "046e9240-3995-419e-92db-34a577c4904f"
      },
      "execution_count": 63,
      "outputs": [
        {
          "output_type": "stream",
          "name": "stdout",
          "text": [
            "Union: {'x1': 0.6, 'x2': 0.7, 'x3': 0.8}\n"
          ]
        }
      ]
    },
    {
      "cell_type": "code",
      "source": [
        "# Intersection: min(A, B)\n",
        "def fuzzy_intersection(A, B):\n",
        "    return {key: min(A[key], B[key]) for key in A}\n",
        "\n",
        "\n",
        "print(\"Intesection:\", fuzzy_intersection(A,B))"
      ],
      "metadata": {
        "colab": {
          "base_uri": "https://localhost:8080/"
        },
        "id": "RbE91miZvPMw",
        "outputId": "a672cf9b-61bd-4ab9-98c5-c45f50024f4d"
      },
      "execution_count": 64,
      "outputs": [
        {
          "output_type": "stream",
          "name": "stdout",
          "text": [
            "Intesection: {'x1': 0.2, 'x2': 0.4, 'x3': 0.5}\n"
          ]
        }
      ]
    },
    {
      "cell_type": "code",
      "source": [
        "# Complement: 1 - A\n",
        "def fuzzy_complement(A):\n",
        "    return {key: 1 - value for key, value in A.items()}\n",
        "\n",
        "print(\"Complement of A:\", fuzzy_complement(A))"
      ],
      "metadata": {
        "colab": {
          "base_uri": "https://localhost:8080/"
        },
        "id": "kxrLbpHEvSyc",
        "outputId": "3f5145a3-782a-41a9-de34-ff818909e1db"
      },
      "execution_count": 65,
      "outputs": [
        {
          "output_type": "stream",
          "name": "stdout",
          "text": [
            "Complement of A: {'x1': 0.8, 'x2': 0.30000000000000004, 'x3': 0.5}\n"
          ]
        }
      ]
    },
    {
      "cell_type": "code",
      "source": [
        "# Difference: max(A, 1 - B)\n",
        "def fuzzy_difference(A, B):\n",
        "    return {key: max(A[key], 1 - B.get(key, 0)) for key in A}\n",
        "\n",
        "print(\"Difference (A - B):\", fuzzy_difference(A,B))"
      ],
      "metadata": {
        "colab": {
          "base_uri": "https://localhost:8080/"
        },
        "id": "Tk9x2XtavXp9",
        "outputId": "8588b4f2-31bf-4471-960e-1cd1775e3439"
      },
      "execution_count": 66,
      "outputs": [
        {
          "output_type": "stream",
          "name": "stdout",
          "text": [
            "Difference (A - B): {'x1': 0.4, 'x2': 0.7, 'x3': 0.5}\n"
          ]
        }
      ]
    },
    {
      "cell_type": "code",
      "source": [
        "def cartesian_product(A, B):\n",
        "    relation = {}\n",
        "    for a_key, a_val in A.items():\n",
        "        for b_key, b_val in B.items():\n",
        "            relation[(a_key, b_key)] = min(a_val, b_val)\n",
        "    return relation\n",
        "\n",
        "\n",
        "\n",
        "print(\"Fuzzy Relation R (A x B):\\n\", cartesian_product(A, B))"
      ],
      "metadata": {
        "colab": {
          "base_uri": "https://localhost:8080/"
        },
        "id": "C1RcQA3OvbaS",
        "outputId": "608fbd62-d6a6-4035-bb98-8dd50b72f268"
      },
      "execution_count": 67,
      "outputs": [
        {
          "output_type": "stream",
          "name": "stdout",
          "text": [
            "Fuzzy Relation R (A x B):\n",
            " {('x1', 'x1'): 0.2, ('x1', 'x2'): 0.2, ('x1', 'x3'): 0.2, ('x2', 'x1'): 0.6, ('x2', 'x2'): 0.4, ('x2', 'x3'): 0.7, ('x3', 'x1'): 0.5, ('x3', 'x2'): 0.4, ('x3', 'x3'): 0.5}\n"
          ]
        }
      ]
    },
    {
      "cell_type": "code",
      "source": [
        "C = {'y1': 0.4, 'y2': 0.8, 'y3': 0.3}\n",
        "\n",
        "\n",
        "# Create fuzzy relations R(A × B) and S(B × C)\n",
        "R = cartesian_product(A, B)  # R(A × B)\n",
        "S = cartesian_product(B, C)  # S(B × C)\n",
        "\n",
        "\n",
        "# Max-Min Composition function\n",
        "def max_min_composition(R1, R2, X, Y, Z):\n",
        "    result = {}\n",
        "    for x in X:\n",
        "        for z in Z:\n",
        "            min_values = [min(R1.get((x, y), 0), R2.get((y, z), 0)) for y in Y]\n",
        "            result[(x, z)] = max(min_values)\n",
        "    return result\n",
        "\n",
        "\n",
        "\n",
        "# Perform the Max-Min Composition\n",
        "print(\"Max-Min Composition T (A × C):\", max_min_composition(R, S, A, B, C))"
      ],
      "metadata": {
        "colab": {
          "base_uri": "https://localhost:8080/"
        },
        "id": "2DqOrFKm4OwN",
        "outputId": "e421bf92-ba30-443f-a35d-454a2f965aff"
      },
      "execution_count": 68,
      "outputs": [
        {
          "output_type": "stream",
          "name": "stdout",
          "text": [
            "Max-Min Composition T (A × C): {('x1', 'y1'): 0.2, ('x1', 'y2'): 0.2, ('x1', 'y3'): 0.2, ('x2', 'y1'): 0.4, ('x2', 'y2'): 0.7, ('x2', 'y3'): 0.3, ('x3', 'y1'): 0.4, ('x3', 'y2'): 0.5, ('x3', 'y3'): 0.3}\n"
          ]
        }
      ]
    }
  ]
}