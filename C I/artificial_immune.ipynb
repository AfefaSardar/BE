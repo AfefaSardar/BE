{
  "nbformat": 4,
  "nbformat_minor": 0,
  "metadata": {
    "colab": {
      "provenance": []
    },
    "kernelspec": {
      "name": "python3",
      "display_name": "Python 3"
    },
    "language_info": {
      "name": "python"
    }
  },
  "cells": [
    {
      "cell_type": "markdown",
      "source": [
        "# To apply the artificial immune pattern recognition to perform a task of structure damage Classification."
      ],
      "metadata": {
        "id": "OMmU1cMEGsDF"
      }
    },
    {
      "cell_type": "code",
      "source": [
        "import numpy as np\n",
        "from sklearn.metrics import accuracy_score, confusion_matrix"
      ],
      "metadata": {
        "id": "ffpfU0epGs59"
      },
      "execution_count": 42,
      "outputs": []
    },
    {
      "cell_type": "code",
      "source": [
        "# --- Step 1: Simulate structural vibration feature data ---\n",
        "\n",
        "# Simulate 2D feature space: [frequency, amplitude]\n",
        "def generate_data(n_samples, label):\n",
        "    if label == 0:  # Normal\n",
        "        return np.random.normal(loc=[10, 1], scale=[1.0, 0.2], size=(n_samples, 2)), [0]*n_samples\n",
        "    else:  # Damaged\n",
        "        return np.random.normal(loc=[7, 2.5], scale=[1.2, 0.3], size=(n_samples, 2)), [1]*n_samples\n",
        "\n",
        "X1, y1 = generate_data(100, 0)\n",
        "X2, y2 = generate_data(100, 1)\n",
        "\n",
        "X = np.vstack((X1, X2))\n",
        "y = np.array(y1 + y2)\n"
      ],
      "metadata": {
        "id": "46NpqYNXGuZT"
      },
      "execution_count": 43,
      "outputs": []
    },
    {
      "cell_type": "code",
      "source": [
        "# --- Step 2: Initialize antibodies (random detectors) ---\n",
        "n_antibodies = 20\n",
        "antibodies = np.random.uniform(low=5, high=15, size=(n_antibodies, 2))  # Random feature values\n",
        "labels = np.random.randint(0, 2, size=n_antibodies)  # Random class guess"
      ],
      "metadata": {
        "id": "qezDCqIOG64f"
      },
      "execution_count": 44,
      "outputs": []
    },
    {
      "cell_type": "code",
      "source": [
        "# --- Step 3: Clonal Selection Algorithm ---\n",
        "def affinity(a, x):\n",
        "    return -np.linalg.norm(a - x)  # Negative Euclidean distance\n",
        "\n",
        "def mutate(antibody, rate=0.1):\n",
        "    return antibody + np.random.normal(scale=rate, size=antibody.shape)\n",
        "\n",
        "def classify(x, antibodies, labels):\n",
        "    affinities = [affinity(a, x) for a in antibodies]\n",
        "    idx = np.argmax(affinities)\n",
        "    return labels[idx]"
      ],
      "metadata": {
        "id": "Vrjd1Q1eG_eT"
      },
      "execution_count": 45,
      "outputs": []
    },
    {
      "cell_type": "code",
      "source": [
        "# Training phase\n",
        "for epoch in range(20):\n",
        "    for i, x in enumerate(X):\n",
        "        pred = classify(x, antibodies, labels)\n",
        "        if pred != y[i]:\n",
        "            # Select best antibody and clone\n",
        "            affinities = [affinity(a, x) for a in antibodies]\n",
        "            idx = np.argmin(affinities)  # Worst matching antibody\n",
        "            # Replace with a mutated version of x\n",
        "            antibodies[idx] = mutate(x)\n",
        "            labels[idx] = y[i]"
      ],
      "metadata": {
        "id": "xlDh9R7xHD6R"
      },
      "execution_count": 46,
      "outputs": []
    },
    {
      "cell_type": "code",
      "source": [
        "# --- Step 4: Classification and Evaluation ---\n",
        "y_pred = [classify(x, antibodies, labels) for x in X]\n",
        "\n",
        "acc = accuracy_score(y, y_pred)\n",
        "cm = confusion_matrix(y, y_pred)\n",
        "\n",
        "print(\"Accuracy:\", acc)\n",
        "print(\"Confusion Matrix:\\n\", cm)"
      ],
      "metadata": {
        "colab": {
          "base_uri": "https://localhost:8080/"
        },
        "id": "eX4vFvNJHG5H",
        "outputId": "63b24dbd-32b9-4aad-e84a-c4ca7ddfc351"
      },
      "execution_count": 47,
      "outputs": [
        {
          "output_type": "stream",
          "name": "stdout",
          "text": [
            "Accuracy: 1.0\n",
            "Confusion Matrix:\n",
            " [[100   0]\n",
            " [  0 100]]\n"
          ]
        }
      ]
    }
  ]
}