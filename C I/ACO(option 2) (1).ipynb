{
 "cells": [
  {
   "cell_type": "code",
   "execution_count": 2,
   "id": "15233166-1790-4ca8-9cff-020e6cd22c7d",
   "metadata": {},
   "outputs": [
    {
     "name": "stdout",
     "output_type": "stream",
     "text": [
      "Best route: [0, 1, 3, 2]\n",
      "Shortest distance: 80\n"
     ]
    }
   ],
   "source": [
    "import numpy as np, random\n",
    "\n",
    "d = np.array([[0,10,15,20],[10,0,35,25],[15,35,0,30],[20,25,30,0]])\n",
    "n, ants, iters = len(d), 10, 50\n",
    "pheromone, vis = np.ones((n,n)), 1/(d + np.eye(n)*1e10)\n",
    "best_route, best_dist = None, float('inf')\n",
    "\n",
    "for _ in range(iters):\n",
    "    routes = []\n",
    "    for _ in range(ants):\n",
    "        route, unvisited = [], list(range(n))\n",
    "        cur = random.choice(unvisited); route.append(cur); unvisited.remove(cur)\n",
    "        while unvisited:\n",
    "            probs = [pheromone[cur][j] * vis[cur][j] for j in unvisited]\n",
    "            cur = random.choices(unvisited, weights=probs)[0]\n",
    "            route.append(cur); unvisited.remove(cur)\n",
    "        routes.append(route)\n",
    "\n",
    "    pheromone *= 0.5\n",
    "    for route in routes:\n",
    "        length = sum(d[route[i]][route[(i+1)%n]] for i in range(n))\n",
    "        for i in range(n):\n",
    "            a, b = route[i], route[(i+1)%n]\n",
    "            pheromone[a][b] += 1/length; pheromone[b][a] += 1/length\n",
    "        if length < best_dist: best_dist, best_route = length, route\n",
    "\n",
    "print(\"Best route:\", best_route)\n",
    "print(\"Shortest distance:\", best_dist)"
   ]
  },
  {
   "cell_type": "code",
   "execution_count": null,
   "id": "23ad9693-5803-4301-8564-0bc8d9f2a106",
   "metadata": {},
   "outputs": [],
   "source": []
  }
 ],
 "metadata": {
  "kernelspec": {
   "display_name": "Python 3 (ipykernel)",
   "language": "python",
   "name": "python3"
  },
  "language_info": {
   "codemirror_mode": {
    "name": "ipython",
    "version": 3
   },
   "file_extension": ".py",
   "mimetype": "text/x-python",
   "name": "python",
   "nbconvert_exporter": "python",
   "pygments_lexer": "ipython3",
   "version": "3.9.20"
  }
 },
 "nbformat": 4,
 "nbformat_minor": 5
}
